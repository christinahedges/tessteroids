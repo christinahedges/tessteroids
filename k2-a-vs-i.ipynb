{
 "cells": [
  {
   "cell_type": "code",
   "execution_count": 22,
   "metadata": {},
   "outputs": [],
   "source": [
    "import pandas as pd\n",
    "import numpy as np\n",
    "from urllib.request import urlopen"
   ]
  },
  {
   "cell_type": "code",
   "execution_count": 2,
   "metadata": {},
   "outputs": [],
   "source": [
    "k2 = pd.read_csv('/Users/ch/K2/projects/asteriks/asteriks/data/CAF_with_proposers.csv')"
   ]
  },
  {
   "cell_type": "code",
   "execution_count": 20,
   "metadata": {},
   "outputs": [
    {
     "data": {
      "text/html": [
       "<div>\n",
       "<style scoped>\n",
       "    .dataframe tbody tr th:only-of-type {\n",
       "        vertical-align: middle;\n",
       "    }\n",
       "\n",
       "    .dataframe tbody tr th {\n",
       "        vertical-align: top;\n",
       "    }\n",
       "\n",
       "    .dataframe thead th {\n",
       "        text-align: right;\n",
       "    }\n",
       "</style>\n",
       "<table border=\"1\" class=\"dataframe\">\n",
       "  <thead>\n",
       "    <tr style=\"text-align: right;\">\n",
       "      <th></th>\n",
       "      <th>obj_name</th>\n",
       "      <th>campaign</th>\n",
       "      <th>ap_start</th>\n",
       "      <th>ap_end</th>\n",
       "      <th>count</th>\n",
       "      <th>EPIC_ID</th>\n",
       "      <th>main_type</th>\n",
       "      <th>sub_type</th>\n",
       "      <th>new_obj_name</th>\n",
       "      <th>clean_name</th>\n",
       "      <th>alternate_names</th>\n",
       "      <th>PROPOSERS</th>\n",
       "      <th>IDS</th>\n",
       "    </tr>\n",
       "  </thead>\n",
       "  <tbody>\n",
       "    <tr>\n",
       "      <th>0</th>\n",
       "      <td>Asteroid.Trojan.Leucus</td>\n",
       "      <td>111|112</td>\n",
       "      <td>200125327</td>\n",
       "      <td>200145290</td>\n",
       "      <td>2999</td>\n",
       "      <td>NaN</td>\n",
       "      <td>asteroid-Trojan</td>\n",
       "      <td>Leucus</td>\n",
       "      <td>Asteroid.Trojan.Leucus</td>\n",
       "      <td>Leucus</td>\n",
       "      <td>11351|1997 TS25|Leucus</td>\n",
       "      <td>Parker|Ryan</td>\n",
       "      <td>GO11100|GO11051</td>\n",
       "    </tr>\n",
       "    <tr>\n",
       "      <th>1</th>\n",
       "      <td>2013 A1 (Siding Springs)</td>\n",
       "      <td>2</td>\n",
       "      <td>200001787</td>\n",
       "      <td>200004369</td>\n",
       "      <td>2583</td>\n",
       "      <td>NaN</td>\n",
       "      <td>comet</td>\n",
       "      <td>2013 A1 (Siding Springs)</td>\n",
       "      <td>2013 A1 (Siding Springs)</td>\n",
       "      <td>2013 A1 (Siding Springs)</td>\n",
       "      <td>Siding Spring</td>\n",
       "      <td>Lisse|Kelley</td>\n",
       "      <td>GO2046|GO2030</td>\n",
       "    </tr>\n",
       "    <tr>\n",
       "      <th>2</th>\n",
       "      <td>Churyumov-Gerasimenko</td>\n",
       "      <td>10</td>\n",
       "      <td>200081804</td>\n",
       "      <td>200084003</td>\n",
       "      <td>2200</td>\n",
       "      <td>NaN</td>\n",
       "      <td>comet</td>\n",
       "      <td>67P/Churyumov-Gerasimenko</td>\n",
       "      <td>Churyumov-Gerasimenko</td>\n",
       "      <td>Churyumov-Gerasimenko</td>\n",
       "      <td>67P</td>\n",
       "      <td>Snodgrass</td>\n",
       "      <td>GO10904</td>\n",
       "    </tr>\n",
       "    <tr>\n",
       "      <th>3</th>\n",
       "      <td>Asteroid.Ryugu</td>\n",
       "      <td>15</td>\n",
       "      <td>200193072</td>\n",
       "      <td>200194787</td>\n",
       "      <td>1716</td>\n",
       "      <td>NaN</td>\n",
       "      <td>NaN</td>\n",
       "      <td>NaN</td>\n",
       "      <td>Asteroid.Ryugu</td>\n",
       "      <td>Ryugu</td>\n",
       "      <td>162173|Ryugu|1999 JU3</td>\n",
       "      <td>Kiss</td>\n",
       "      <td>GO15061</td>\n",
       "    </tr>\n",
       "    <tr>\n",
       "      <th>4</th>\n",
       "      <td>Asteroid.Trojan.2001 DU87</td>\n",
       "      <td>111|112</td>\n",
       "      <td>200113657</td>\n",
       "      <td>200134731</td>\n",
       "      <td>1700</td>\n",
       "      <td>NaN</td>\n",
       "      <td>asteroid-Trojan</td>\n",
       "      <td>2001 DU87</td>\n",
       "      <td>Asteroid.Trojan.2001 DU87</td>\n",
       "      <td>2001 DU87</td>\n",
       "      <td>2001 DU87|63291</td>\n",
       "      <td>Pal|Parker|Ryan</td>\n",
       "      <td>GO11114|GO11100|GO11051</td>\n",
       "    </tr>\n",
       "  </tbody>\n",
       "</table>\n",
       "</div>"
      ],
      "text/plain": [
       "                    obj_name campaign   ap_start     ap_end  count  EPIC_ID  \\\n",
       "0     Asteroid.Trojan.Leucus  111|112  200125327  200145290   2999      NaN   \n",
       "1   2013 A1 (Siding Springs)        2  200001787  200004369   2583      NaN   \n",
       "2      Churyumov-Gerasimenko       10  200081804  200084003   2200      NaN   \n",
       "3             Asteroid.Ryugu       15  200193072  200194787   1716      NaN   \n",
       "4  Asteroid.Trojan.2001 DU87  111|112  200113657  200134731   1700      NaN   \n",
       "\n",
       "         main_type                   sub_type               new_obj_name  \\\n",
       "0  asteroid-Trojan                     Leucus     Asteroid.Trojan.Leucus   \n",
       "1            comet   2013 A1 (Siding Springs)   2013 A1 (Siding Springs)   \n",
       "2            comet  67P/Churyumov-Gerasimenko      Churyumov-Gerasimenko   \n",
       "3              NaN                        NaN             Asteroid.Ryugu   \n",
       "4  asteroid-Trojan                  2001 DU87  Asteroid.Trojan.2001 DU87   \n",
       "\n",
       "                 clean_name         alternate_names        PROPOSERS  \\\n",
       "0                    Leucus  11351|1997 TS25|Leucus      Parker|Ryan   \n",
       "1  2013 A1 (Siding Springs)           Siding Spring     Lisse|Kelley   \n",
       "2     Churyumov-Gerasimenko                     67P        Snodgrass   \n",
       "3                     Ryugu   162173|Ryugu|1999 JU3             Kiss   \n",
       "4                 2001 DU87         2001 DU87|63291  Pal|Parker|Ryan   \n",
       "\n",
       "                       IDS  \n",
       "0          GO11100|GO11051  \n",
       "1            GO2046|GO2030  \n",
       "2                  GO10904  \n",
       "3                  GO15061  \n",
       "4  GO11114|GO11100|GO11051  "
      ]
     },
     "execution_count": 20,
     "metadata": {},
     "output_type": "execute_result"
    }
   ],
   "source": [
    "k2.head()"
   ]
  },
  {
   "cell_type": "code",
   "execution_count": 11,
   "metadata": {},
   "outputs": [],
   "source": [
    "piv = pd.read_pickle('all_piv.p')"
   ]
  },
  {
   "cell_type": "code",
   "execution_count": 18,
   "metadata": {},
   "outputs": [
    {
     "data": {
      "text/plain": [
       "2459035.5"
      ]
     },
     "execution_count": 18,
     "metadata": {},
     "output_type": "execute_result"
    }
   ],
   "source": [
    "piv.index.get_level_values('epoch').max()"
   ]
  },
  {
   "cell_type": "code",
   "execution_count": 21,
   "metadata": {},
   "outputs": [],
   "source": [
    "HORIZONS_URL = (\"https://ssd.jpl.nasa.gov/horizons_batch.cgi?\"\n",
    "                \"batch=1&\"\n",
    "                \"COMMAND=%27{0}%27&\"\n",
    "                \"MAKE_EPHEM=%27YES%27%20&\"\n",
    "                \"CENTER=%27500@-95%27&\"\n",
    "                \"TABLE_TYPE=%27OBSERVER%27&\"\n",
    "                \"START_TIME=%27{1}%27&\"\n",
    "                \"STOP_TIME=%27{2}%27&\"\n",
    "                \"STEP_SIZE=%27{3}%27%20&\"\n",
    "                \"ANG_FORMAT=%27DEG%27&\"\n",
    "                \"QUANTITIES=%271,3,9%27&\"\n",
    "                \"CSV_FORMAT=%27YES%27\".format('Leucus', 2458682.5, 2459035.5, 10))"
   ]
  },
  {
   "cell_type": "code",
   "execution_count": 35,
   "metadata": {},
   "outputs": [],
   "source": [
    "res = str(urlopen(HORIZONS_URL).read())"
   ]
  },
  {
   "cell_type": "code",
   "execution_count": 42,
   "metadata": {},
   "outputs": [],
   "source": [
    "inc = float(res.split('IN=')[-1].split('\\\\n')[0])\n",
    "ecc = float(res.split('EC=')[-1].split('QR=')[0])\n",
    "per = inc = float(res.split('IN=')[-1].split('\\\\n')[0])"
   ]
  },
  {
   "cell_type": "markdown",
   "metadata": {},
   "source": [
    "!$$SOF\n",
    "COMMAND= '11351;'\n",
    "CENTER= '500@-95'\n",
    "MAKE_EPHEM= 'YES'\n",
    "TABLE_TYPE= 'OBSERVER'\n",
    "START_TIME= '2019-03-12'\n",
    "STOP_TIME= '2019-04-11'\n",
    "STEP_SIZE= '1 d'\n",
    "CAL_FORMAT= 'CAL'\n",
    "TIME_DIGITS= 'MINUTES'\n",
    "ANG_FORMAT= 'HMS'\n",
    "OUT_UNITS= 'KM-S'\n",
    "RANGE_UNITS= 'AU'\n",
    "APPARENT= 'AIRLESS'\n",
    "SUPPRESS_RANGE_RATE= 'NO'\n",
    "SKIP_DAYLT= 'NO'\n",
    "EXTRA_PREC= 'NO'\n",
    "R_T_S_ONLY= 'NO'\n",
    "REF_SYSTEM= 'J2000'\n",
    "CSV_FORMAT= 'NO'\n",
    "OBJ_DATA= 'YES'\n",
    "QUANTITIES= '1,9,20,23,24'\n",
    "!$$EOF"
   ]
  },
  {
   "cell_type": "code",
   "execution_count": null,
   "metadata": {},
   "outputs": [],
   "source": []
  }
 ],
 "metadata": {
  "kernelspec": {
   "display_name": "Python 3",
   "language": "python",
   "name": "python3"
  },
  "language_info": {
   "codemirror_mode": {
    "name": "ipython",
    "version": 3
   },
   "file_extension": ".py",
   "mimetype": "text/x-python",
   "name": "python",
   "nbconvert_exporter": "python",
   "pygments_lexer": "ipython3",
   "version": "3.6.7"
  }
 },
 "nbformat": 4,
 "nbformat_minor": 2
}
