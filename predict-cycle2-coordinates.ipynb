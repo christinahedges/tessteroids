{
 "cells": [
  {
   "cell_type": "markdown",
   "metadata": {},
   "source": [
    "## Guesstimating TESS Cycle 2 coordinates"
   ]
  },
  {
   "cell_type": "markdown",
   "metadata": {},
   "source": [
    "Because the exact camera coordinates for TESS Cycle 2 are nowhere to be found, we predict them by assuming they will be mirrored across the ecliptic.  This is no doubt wrong, but it's better than nothing!"
   ]
  },
  {
   "cell_type": "code",
   "execution_count": 21,
   "metadata": {},
   "outputs": [],
   "source": [
    "%matplotlib inline\n",
    "from astropy.coordinates import SkyCoord\n",
    "import pandas as pd\n",
    "import matplotlib.pyplot as pl"
   ]
  },
  {
   "cell_type": "code",
   "execution_count": 29,
   "metadata": {},
   "outputs": [],
   "source": [
    "# Read the TESS Cycle 1 info\n",
    "cycle1 = pd.read_csv('tess_cycle_1.dat')"
   ]
  },
  {
   "cell_type": "code",
   "execution_count": 30,
   "metadata": {},
   "outputs": [],
   "source": [
    "# Loop through each sector and mirror it along the ecliptic\n",
    "north = []\n",
    "for idx in range(len(cycle1)):\n",
    "    sector = cycle1.iloc[idx]\n",
    "    sector_new = {'Sector': idx+101}\n",
    "    for camera in [1, 2, 3, 4]:\n",
    "        crd = SkyCoord(sector[f'Cam{camera}RA'], sector[f'Cam{camera}Dec'], frame='icrs', unit='deg')\n",
    "        crd_new = SkyCoord(crd.barycentrictrueecliptic.lon, -crd.barycentrictrueecliptic.lat, frame='barycentrictrueecliptic').icrs\n",
    "        sector_new[f'Cam{camera}RA'] =  crd_new.ra.deg\n",
    "        sector_new[f'Cam{camera}Dec'] =  crd_new.dec.deg\n",
    "    north.append(sector_new)"
   ]
  },
  {
   "cell_type": "code",
   "execution_count": 31,
   "metadata": {},
   "outputs": [],
   "source": [
    "cycle2 = pd.DataFrame(north, columns=north[0].keys())"
   ]
  },
  {
   "cell_type": "code",
   "execution_count": 32,
   "metadata": {},
   "outputs": [],
   "source": [
    "north_start_dates = ['07/18/19', '08/15/19', '09/11/19', '10/07/19', '11/02/19', '11/27/19', '12/24/19', '01/21/20', '02/18/20', '03/18/20', '04/15/20', '05/13/20', '06/08/20']\n",
    "north_end_dates = ['08/15/19', '09/11/19', '10/07/19', '11/02/19', '11/27/19', '12/24/19', '01/21/20', '02/18/20', '03/18/20', '04/15/20', '05/13/20', '06/08/20', '07/04/20']\n",
    "cycle2['Start'] = north_start_dates\n",
    "cycle2['End'] = north_end_dates"
   ]
  },
  {
   "cell_type": "code",
   "execution_count": 33,
   "metadata": {},
   "outputs": [],
   "source": [
    "cycle2.to_csv('tess_cycle_2_prediction.dat')"
   ]
  },
  {
   "cell_type": "markdown",
   "metadata": {},
   "source": [
    "## Sanity check: plot the results"
   ]
  },
  {
   "cell_type": "code",
   "execution_count": 34,
   "metadata": {},
   "outputs": [
    {
     "data": {
      "image/png": "[encoded data removed]",
      "text/plain": [
       "<Figure size 432x288 with 1 Axes>"
      ]
     },
     "metadata": {
      "needs_background": "light"
     },
     "output_type": "display_data"
    }
   ],
   "source": [
    "ax = pl.subplot();\n",
    "for camera in [1, 2, 3, 4]:\n",
    "    ax = cycle1.plot(x=f'Cam{camera}RA', y=f'Cam{camera}Dec', style='kx', legend=None, ax=ax);\n",
    "    ax = cycle2.plot(x=f'Cam{camera}RA', y=f'Cam{camera}Dec', style='k.', legend=None, ax=ax);"
   ]
  },
  {
   "cell_type": "code",
   "execution_count": 35,
   "metadata": {},
   "outputs": [
    {
     "name": "stdout",
     "output_type": "stream",
     "text": [
      "295.06723790327567 46.49911857794193\n",
      "309.65113250676853 52.35728005924541\n",
      "276.13697378951923 42.79491409557237\n"
     ]
    }
   ],
   "source": [
    "# Sanity check: according to WTV, Kepler-10 should be in the first two and in the last sector\n",
    "ra, dec = 285.6794, 50.2413  # Kepler-10\n",
    "print(cycle2.iloc[0]['Cam3RA'], cycle2.iloc[0]['Cam3Dec'])\n",
    "print(cycle2.iloc[1]['Cam3RA'], cycle2.iloc[1]['Cam3Dec'])\n",
    "print(cycle2.iloc[-1]['Cam3RA'], cycle2.iloc[-1]['Cam3Dec'])"
   ]
  },
  {
   "cell_type": "code",
   "execution_count": null,
   "metadata": {},
   "outputs": [],
   "source": []
  }
 ],
 "metadata": {
  "kernelspec": {
   "display_name": "Python 3",
   "language": "python",
   "name": "python3"
  },
  "language_info": {
   "codemirror_mode": {
    "name": "ipython",
    "version": 3
   },
   "file_extension": ".py",
   "mimetype": "text/x-python",
   "name": "python",
   "nbconvert_exporter": "python",
   "pygments_lexer": "ipython3",
   "version": "3.7.2"
  }
 },
 "nbformat": 4,
 "nbformat_minor": 2
}
