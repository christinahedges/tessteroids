{
 "cells": [
  {
   "cell_type": "code",
   "execution_count": 48,
   "metadata": {},
   "outputs": [],
   "source": [
    "import pandas as pd\n",
    "from astropy.time import Time\n",
    "from datetime import datetime\n",
    "import numpy as np\n",
    "from tqdm import tqdm\n",
    "import matplotlib.pyplot as plt"
   ]
  },
  {
   "cell_type": "code",
   "execution_count": 49,
   "metadata": {},
   "outputs": [],
   "source": [
    "from astropy.coordinates import SkyCoord\n",
    "import astropy.units as u"
   ]
  },
  {
   "cell_type": "code",
   "execution_count": 50,
   "metadata": {},
   "outputs": [],
   "source": [
    "cycle2 = pd.read_csv('tess_cycle_2_prediction.dat')"
   ]
  },
  {
   "cell_type": "code",
   "execution_count": 51,
   "metadata": {},
   "outputs": [
    {
     "name": "stderr",
     "output_type": "stream",
     "text": [
      "\n",
      "\n",
      "  0%|          | 0/3 [00:00<?, ?it/s]\u001b[A\u001b[A"
     ]
    },
    {
     "name": "stdout",
     "output_type": "stream",
     "text": [
      "Starting sector 0 camera 1\n"
     ]
    },
    {
     "name": "stderr",
     "output_type": "stream",
     "text": [
      "\n",
      "\n",
      " 33%|███▎      | 1/3 [00:05<00:11,  5.89s/it]\u001b[A\u001b[A\n",
      "\n",
      " 67%|██████▋   | 2/3 [00:16<00:07,  7.27s/it]\u001b[A\u001b[A\n",
      "\n",
      "100%|██████████| 3/3 [00:41<00:00, 12.57s/it]\u001b[A\u001b[A\n",
      "\n",
      "  0%|          | 0/3 [00:00<?, ?it/s]\u001b[A\u001b[A"
     ]
    },
    {
     "name": "stdout",
     "output_type": "stream",
     "text": [
      "Writing catalog/sector0-camera1.hf5\n",
      "Starting sector 0 camera 2\n"
     ]
    },
    {
     "name": "stderr",
     "output_type": "stream",
     "text": [
      "\n",
      "\n",
      " 33%|███▎      | 1/3 [00:01<00:03,  1.52s/it]\u001b[A\u001b[A\n",
      "\n",
      " 67%|██████▋   | 2/3 [00:03<00:01,  1.73s/it]\u001b[A\u001b[A\n",
      "\n",
      "100%|██████████| 3/3 [00:06<00:00,  2.18s/it]\u001b[A\u001b[A\n",
      "\n",
      "  0%|          | 0/3 [00:00<?, ?it/s]\u001b[A\u001b[A"
     ]
    },
    {
     "name": "stdout",
     "output_type": "stream",
     "text": [
      "Writing catalog/sector0-camera2.hf5\n",
      "Starting sector 0 camera 3\n"
     ]
    },
    {
     "name": "stderr",
     "output_type": "stream",
     "text": [
      "\n",
      "\n",
      " 33%|███▎      | 1/3 [00:00<00:01,  1.04it/s]\u001b[A\u001b[A\n",
      "\n",
      " 67%|██████▋   | 2/3 [00:02<00:01,  1.05s/it]\u001b[A\u001b[A\n",
      "\n",
      "100%|██████████| 3/3 [00:03<00:00,  1.03s/it]\u001b[A\u001b[A\n",
      "\n",
      "  0%|          | 0/3 [00:00<?, ?it/s]\u001b[A\u001b[A"
     ]
    },
    {
     "name": "stdout",
     "output_type": "stream",
     "text": [
      "Writing catalog/sector0-camera3.hf5\n",
      "Starting sector 0 camera 4\n"
     ]
    },
    {
     "name": "stderr",
     "output_type": "stream",
     "text": [
      "\n",
      "\n",
      " 33%|███▎      | 1/3 [00:00<00:01,  1.24it/s]\u001b[A\u001b[A\n",
      "\n",
      " 67%|██████▋   | 2/3 [00:01<00:00,  1.12it/s]\u001b[A\u001b[A\n",
      "\n",
      "100%|██████████| 3/3 [00:02<00:00,  1.11it/s]\u001b[A\u001b[A\n",
      "\n",
      "  0%|          | 0/3 [00:00<?, ?it/s]\u001b[A\u001b[A"
     ]
    },
    {
     "name": "stdout",
     "output_type": "stream",
     "text": [
      "Writing catalog/sector0-camera4.hf5\n",
      "Starting sector 1 camera 1\n"
     ]
    },
    {
     "name": "stderr",
     "output_type": "stream",
     "text": [
      "\n",
      "\n",
      " 33%|███▎      | 1/3 [00:17<00:34, 17.05s/it]\u001b[A\u001b[A\n",
      "\n",
      " 67%|██████▋   | 2/3 [00:27<00:15, 15.08s/it]\u001b[A\u001b[A\n",
      "\n",
      "100%|██████████| 3/3 [00:37<00:00, 13.40s/it]\u001b[A\u001b[A\n",
      "\n",
      "  0%|          | 0/3 [00:00<?, ?it/s]\u001b[A\u001b[A"
     ]
    },
    {
     "name": "stdout",
     "output_type": "stream",
     "text": [
      "Writing catalog/sector1-camera1.hf5\n",
      "Starting sector 1 camera 2\n"
     ]
    },
    {
     "name": "stderr",
     "output_type": "stream",
     "text": [
      "\n",
      "\n",
      " 33%|███▎      | 1/3 [00:05<00:11,  5.89s/it]\u001b[A\u001b[A\n",
      "\n",
      " 67%|██████▋   | 2/3 [00:10<00:05,  5.45s/it]\u001b[A\u001b[A\n",
      "\n",
      "100%|██████████| 3/3 [00:17<00:00,  6.05s/it]\u001b[A\u001b[A\n",
      "\n",
      "  0%|          | 0/3 [00:00<?, ?it/s]\u001b[A\u001b[A"
     ]
    },
    {
     "name": "stdout",
     "output_type": "stream",
     "text": [
      "Writing catalog/sector1-camera2.hf5\n",
      "Starting sector 1 camera 3\n"
     ]
    },
    {
     "name": "stderr",
     "output_type": "stream",
     "text": [
      "\n",
      "\n",
      " 33%|███▎      | 1/3 [00:01<00:02,  1.08s/it]\u001b[A\u001b[A\n",
      "\n",
      " 67%|██████▋   | 2/3 [00:02<00:01,  1.08s/it]\u001b[A\u001b[A\n",
      "\n",
      "100%|██████████| 3/3 [00:03<00:00,  1.16s/it]\u001b[A\u001b[A\n",
      "\n",
      "  0%|          | 0/3 [00:00<?, ?it/s]\u001b[A\u001b[A"
     ]
    },
    {
     "name": "stdout",
     "output_type": "stream",
     "text": [
      "Writing catalog/sector1-camera3.hf5\n",
      "Starting sector 1 camera 4\n"
     ]
    },
    {
     "name": "stderr",
     "output_type": "stream",
     "text": [
      "\n",
      "\n",
      " 33%|███▎      | 1/3 [00:01<00:02,  1.17s/it]\u001b[A\u001b[A\n",
      "\n",
      " 67%|██████▋   | 2/3 [00:02<00:01,  1.14s/it]\u001b[A\u001b[A\n",
      "\n",
      "100%|██████████| 3/3 [00:03<00:00,  1.16s/it]\u001b[A\u001b[A\n",
      "\n",
      "  0%|          | 0/3 [00:00<?, ?it/s]\u001b[A\u001b[A"
     ]
    },
    {
     "name": "stdout",
     "output_type": "stream",
     "text": [
      "Writing catalog/sector1-camera4.hf5\n",
      "Starting sector 2 camera 1\n"
     ]
    },
    {
     "name": "stderr",
     "output_type": "stream",
     "text": [
      "\n",
      "\n",
      " 33%|███▎      | 1/3 [00:09<00:19,  9.96s/it]\u001b[A\u001b[A\n",
      "\n",
      " 67%|██████▋   | 2/3 [00:18<00:09,  9.45s/it]\u001b[A\u001b[A\n",
      "\n",
      "100%|██████████| 3/3 [10:06<00:00, 183.16s/it]\u001b[A\u001b[A\n",
      "\n",
      "  0%|          | 0/3 [00:00<?, ?it/s]\u001b[A\u001b[A"
     ]
    },
    {
     "name": "stdout",
     "output_type": "stream",
     "text": [
      "Writing catalog/sector2-camera1.hf5\n",
      "Starting sector 2 camera 2\n"
     ]
    },
    {
     "name": "stderr",
     "output_type": "stream",
     "text": [
      "\n",
      "\n",
      " 33%|███▎      | 1/3 [00:05<00:11,  5.62s/it]\u001b[A\u001b[A\n",
      "\n",
      " 67%|██████▋   | 2/3 [00:10<00:05,  5.50s/it]\u001b[A\u001b[A\n",
      "\n",
      "100%|██████████| 3/3 [00:16<00:00,  5.55s/it]\u001b[A\u001b[A\n",
      "\n",
      "  0%|          | 0/3 [00:00<?, ?it/s]\u001b[A\u001b[A"
     ]
    },
    {
     "name": "stdout",
     "output_type": "stream",
     "text": [
      "Writing catalog/sector2-camera2.hf5\n",
      "Starting sector 2 camera 3\n"
     ]
    },
    {
     "name": "stderr",
     "output_type": "stream",
     "text": [
      "\n",
      "\n",
      " 33%|███▎      | 1/3 [00:01<00:02,  1.07s/it]\u001b[A\u001b[A\n",
      "\n",
      " 67%|██████▋   | 2/3 [00:01<00:01,  1.01s/it]\u001b[A\u001b[A\n",
      "\n",
      "100%|██████████| 3/3 [00:02<00:00,  1.03it/s]\u001b[A\u001b[A\n",
      "\n",
      "  0%|          | 0/3 [00:00<?, ?it/s]\u001b[A\u001b[A"
     ]
    },
    {
     "name": "stdout",
     "output_type": "stream",
     "text": [
      "Writing catalog/sector2-camera3.hf5\n",
      "Starting sector 2 camera 4\n"
     ]
    },
    {
     "name": "stderr",
     "output_type": "stream",
     "text": [
      "\n",
      "\n",
      " 33%|███▎      | 1/3 [00:00<00:01,  1.35it/s]\u001b[A\u001b[A\n",
      "\n",
      " 67%|██████▋   | 2/3 [00:01<00:00,  1.16it/s]\u001b[A\u001b[A\n",
      "\n",
      "100%|██████████| 3/3 [00:02<00:00,  1.14it/s]\u001b[A\u001b[A\n",
      "\n",
      "  0%|          | 0/3 [00:00<?, ?it/s]\u001b[A\u001b[A"
     ]
    },
    {
     "name": "stdout",
     "output_type": "stream",
     "text": [
      "Writing catalog/sector2-camera4.hf5\n",
      "Starting sector 3 camera 1\n"
     ]
    },
    {
     "name": "stderr",
     "output_type": "stream",
     "text": [
      "\n",
      "\n",
      " 33%|███▎      | 1/3 [00:15<00:30, 15.42s/it]\u001b[A\u001b[A\n",
      "\n",
      " 67%|██████▋   | 2/3 [00:55<00:22, 22.76s/it]\u001b[A\u001b[A\n",
      "\n",
      "100%|██████████| 3/3 [01:10<00:00, 20.38s/it]\u001b[A\u001b[A\n",
      "\n",
      "  0%|          | 0/3 [00:00<?, ?it/s]\u001b[A\u001b[A"
     ]
    },
    {
     "name": "stdout",
     "output_type": "stream",
     "text": [
      "Writing catalog/sector3-camera1.hf5\n",
      "Starting sector 3 camera 2\n"
     ]
    },
    {
     "name": "stderr",
     "output_type": "stream",
     "text": [
      "\n",
      "\n",
      " 33%|███▎      | 1/3 [00:01<00:03,  1.65s/it]\u001b[A\u001b[A\n",
      "\n",
      " 67%|██████▋   | 2/3 [00:04<00:02,  2.15s/it]\u001b[A\u001b[A\n",
      "\n",
      "100%|██████████| 3/3 [00:06<00:00,  2.08s/it]\u001b[A\u001b[A\n",
      "\n",
      "  0%|          | 0/3 [00:00<?, ?it/s]\u001b[A\u001b[A"
     ]
    },
    {
     "name": "stdout",
     "output_type": "stream",
     "text": [
      "Writing catalog/sector3-camera2.hf5\n",
      "Starting sector 3 camera 3\n"
     ]
    },
    {
     "name": "stderr",
     "output_type": "stream",
     "text": [
      "\n",
      "\n",
      " 33%|███▎      | 1/3 [00:04<00:09,  4.84s/it]\u001b[A\u001b[A\n",
      "\n",
      " 67%|██████▋   | 2/3 [00:08<00:04,  4.63s/it]\u001b[A\u001b[A\n",
      "\n",
      "100%|██████████| 3/3 [00:09<00:00,  3.52s/it]\u001b[A\u001b[A\n",
      "\n",
      "  0%|          | 0/3 [00:00<?, ?it/s]\u001b[A\u001b[A"
     ]
    },
    {
     "name": "stdout",
     "output_type": "stream",
     "text": [
      "Writing catalog/sector3-camera3.hf5\n",
      "Starting sector 3 camera 4\n"
     ]
    },
    {
     "name": "stderr",
     "output_type": "stream",
     "text": [
      "\n",
      "\n",
      " 33%|███▎      | 1/3 [00:01<00:02,  1.22s/it]\u001b[A\u001b[A\n",
      "\n",
      " 67%|██████▋   | 2/3 [00:02<00:01,  1.13s/it]\u001b[A\u001b[A\n",
      "\n",
      "100%|██████████| 3/3 [00:03<00:00,  1.10s/it]\u001b[A\u001b[A\n",
      "\n",
      "  0%|          | 0/3 [00:00<?, ?it/s]\u001b[A\u001b[A"
     ]
    },
    {
     "name": "stdout",
     "output_type": "stream",
     "text": [
      "Writing catalog/sector3-camera4.hf5\n",
      "Starting sector 4 camera 1\n"
     ]
    },
    {
     "name": "stderr",
     "output_type": "stream",
     "text": [
      "\n",
      "\n",
      " 33%|███▎      | 1/3 [00:42<01:25, 42.57s/it]\u001b[A\u001b[A\n",
      "\n",
      " 67%|██████▋   | 2/3 [01:22<00:41, 41.68s/it]\u001b[A\u001b[A\n",
      "\n",
      "100%|██████████| 3/3 [02:04<00:00, 41.73s/it]\u001b[A\u001b[A\n",
      "\n",
      "  0%|          | 0/3 [00:00<?, ?it/s]\u001b[A\u001b[A"
     ]
    },
    {
     "name": "stdout",
     "output_type": "stream",
     "text": [
      "Writing catalog/sector4-camera1.hf5\n",
      "Starting sector 4 camera 2\n"
     ]
    },
    {
     "name": "stderr",
     "output_type": "stream",
     "text": [
      "\n",
      "\n",
      " 33%|███▎      | 1/3 [00:02<00:05,  2.58s/it]\u001b[A\u001b[A\n",
      "\n",
      " 67%|██████▋   | 2/3 [00:05<00:02,  2.80s/it]\u001b[A\u001b[A\n",
      "\n",
      "100%|██████████| 3/3 [00:08<00:00,  2.70s/it]\u001b[A\u001b[A\n",
      "\n",
      "  0%|          | 0/3 [00:00<?, ?it/s]\u001b[A\u001b[A"
     ]
    },
    {
     "name": "stdout",
     "output_type": "stream",
     "text": [
      "Writing catalog/sector4-camera2.hf5\n",
      "Starting sector 4 camera 3\n"
     ]
    },
    {
     "name": "stderr",
     "output_type": "stream",
     "text": [
      "\n",
      "\n",
      " 33%|███▎      | 1/3 [00:00<00:01,  1.01it/s]\u001b[A\u001b[A\n",
      "\n",
      " 67%|██████▋   | 2/3 [00:02<00:01,  1.01s/it]\u001b[A\u001b[A\n",
      "\n",
      "100%|██████████| 3/3 [00:03<00:00,  1.09s/it]\u001b[A\u001b[A\n",
      "\n",
      "  0%|          | 0/3 [00:00<?, ?it/s]\u001b[A\u001b[A"
     ]
    },
    {
     "name": "stdout",
     "output_type": "stream",
     "text": [
      "Writing catalog/sector4-camera3.hf5\n",
      "Starting sector 4 camera 4\n"
     ]
    },
    {
     "name": "stderr",
     "output_type": "stream",
     "text": [
      "\n",
      "\n",
      " 33%|███▎      | 1/3 [00:00<00:01,  1.05it/s]\u001b[A\u001b[A\n",
      "\n",
      " 67%|██████▋   | 2/3 [00:02<00:00,  1.00it/s]\u001b[A\u001b[A\n",
      "\n",
      "100%|██████████| 3/3 [00:03<00:00,  1.08s/it]\u001b[A\u001b[A\n",
      "\n",
      "  0%|          | 0/3 [00:00<?, ?it/s]\u001b[A\u001b[A"
     ]
    },
    {
     "name": "stdout",
     "output_type": "stream",
     "text": [
      "Writing catalog/sector4-camera4.hf5\n",
      "Starting sector 5 camera 1\n"
     ]
    },
    {
     "name": "stderr",
     "output_type": "stream",
     "text": [
      "\n",
      "\n",
      " 33%|███▎      | 1/3 [00:22<00:44, 22.49s/it]\u001b[A\u001b[A\n",
      "\n",
      " 67%|██████▋   | 2/3 [01:01<00:27, 27.34s/it]\u001b[A\u001b[A\n",
      "\n",
      "100%|██████████| 3/3 [01:17<00:00, 24.10s/it]\u001b[A\u001b[A\n",
      "\n",
      "  0%|          | 0/3 [00:00<?, ?it/s]\u001b[A\u001b[A"
     ]
    },
    {
     "name": "stdout",
     "output_type": "stream",
     "text": [
      "Writing catalog/sector5-camera1.hf5\n",
      "Starting sector 5 camera 2\n"
     ]
    },
    {
     "name": "stderr",
     "output_type": "stream",
     "text": [
      "\n",
      "\n",
      " 33%|███▎      | 1/3 [00:02<00:05,  2.57s/it]\u001b[A\u001b[A\n",
      "\n",
      " 67%|██████▋   | 2/3 [02:08<00:39, 39.57s/it]\u001b[A\u001b[A\n",
      "\n",
      "100%|██████████| 3/3 [02:10<00:00, 28.26s/it]\u001b[A\u001b[A\n",
      "\n",
      "  0%|          | 0/3 [00:00<?, ?it/s]\u001b[A\u001b[A"
     ]
    },
    {
     "name": "stdout",
     "output_type": "stream",
     "text": [
      "Writing catalog/sector5-camera2.hf5\n",
      "Starting sector 5 camera 3\n"
     ]
    },
    {
     "name": "stderr",
     "output_type": "stream",
     "text": [
      "\n",
      "\n",
      " 33%|███▎      | 1/3 [00:53<01:46, 53.31s/it]\u001b[A\u001b[A\n",
      "\n",
      " 67%|██████▋   | 2/3 [00:54<00:37, 37.66s/it]\u001b[A\u001b[A\n",
      "\n",
      "100%|██████████| 3/3 [00:55<00:00, 26.61s/it]\u001b[A\u001b[A\n",
      "\n",
      "  0%|          | 0/3 [00:00<?, ?it/s]\u001b[A\u001b[A"
     ]
    },
    {
     "name": "stdout",
     "output_type": "stream",
     "text": [
      "Writing catalog/sector5-camera3.hf5\n",
      "Starting sector 5 camera 4\n"
     ]
    },
    {
     "name": "stderr",
     "output_type": "stream",
     "text": [
      "\n",
      "\n",
      " 33%|███▎      | 1/3 [00:02<00:05,  2.76s/it]\u001b[A\u001b[A\n",
      "\n",
      " 67%|██████▋   | 2/3 [00:04<00:02,  2.37s/it]\u001b[A\u001b[A\n",
      "\n",
      "100%|██████████| 3/3 [00:05<00:00,  1.95s/it]\u001b[A\u001b[A\n",
      "\n",
      "  0%|          | 0/3 [00:00<?, ?it/s]\u001b[A\u001b[A"
     ]
    },
    {
     "name": "stdout",
     "output_type": "stream",
     "text": [
      "Writing catalog/sector5-camera4.hf5\n",
      "Starting sector 6 camera 1\n"
     ]
    },
    {
     "name": "stderr",
     "output_type": "stream",
     "text": [
      "\n",
      "\n",
      " 33%|███▎      | 1/3 [00:40<01:20, 40.25s/it]\u001b[A\u001b[A\n",
      "\n",
      " 67%|██████▋   | 2/3 [00:59<00:33, 33.81s/it]\u001b[A\u001b[A\n",
      "\n",
      "100%|██████████| 3/3 [01:45<00:00, 37.68s/it]\u001b[A\u001b[A\n",
      "\n",
      "  0%|          | 0/3 [00:00<?, ?it/s]\u001b[A\u001b[A"
     ]
    },
    {
     "name": "stdout",
     "output_type": "stream",
     "text": [
      "Writing catalog/sector6-camera1.hf5\n",
      "Starting sector 6 camera 2\n"
     ]
    },
    {
     "name": "stderr",
     "output_type": "stream",
     "text": [
      "\n",
      "\n",
      " 33%|███▎      | 1/3 [00:02<00:04,  2.10s/it]\u001b[A\u001b[A\n",
      "\n",
      " 67%|██████▋   | 2/3 [00:05<00:02,  2.43s/it]\u001b[A\u001b[A\n",
      "\n",
      "100%|██████████| 3/3 [00:07<00:00,  2.24s/it]\u001b[A\u001b[A\n",
      "\n",
      "  0%|          | 0/3 [00:00<?, ?it/s]\u001b[A\u001b[A"
     ]
    },
    {
     "name": "stdout",
     "output_type": "stream",
     "text": [
      "Writing catalog/sector6-camera2.hf5\n",
      "Starting sector 6 camera 3\n"
     ]
    },
    {
     "name": "stderr",
     "output_type": "stream",
     "text": [
      "\n",
      "\n",
      " 33%|███▎      | 1/3 [00:03<00:06,  3.15s/it]\u001b[A\u001b[A\n",
      "\n",
      " 67%|██████▋   | 2/3 [00:04<00:02,  2.49s/it]\u001b[A\u001b[A\n",
      "\n",
      "100%|██████████| 3/3 [00:05<00:00,  2.10s/it]\u001b[A\u001b[A\n",
      "\n",
      "  0%|          | 0/3 [00:00<?, ?it/s]\u001b[A\u001b[A"
     ]
    },
    {
     "name": "stdout",
     "output_type": "stream",
     "text": [
      "Writing catalog/sector6-camera3.hf5\n",
      "Starting sector 6 camera 4\n"
     ]
    },
    {
     "name": "stderr",
     "output_type": "stream",
     "text": [
      "\n",
      "\n",
      " 33%|███▎      | 1/3 [00:01<00:03,  1.87s/it]\u001b[A\u001b[A\n",
      "\n",
      " 67%|██████▋   | 2/3 [00:02<00:01,  1.59s/it]\u001b[A\u001b[A\n",
      "\n",
      "100%|██████████| 3/3 [00:04<00:00,  1.48s/it]\u001b[A\u001b[A\n",
      "\n",
      "  0%|          | 0/3 [00:00<?, ?it/s]\u001b[A\u001b[A"
     ]
    },
    {
     "name": "stdout",
     "output_type": "stream",
     "text": [
      "Writing catalog/sector6-camera4.hf5\n",
      "Starting sector 7 camera 1\n"
     ]
    },
    {
     "name": "stderr",
     "output_type": "stream",
     "text": [
      "\n",
      "\n",
      " 33%|███▎      | 1/3 [00:29<00:58, 29.16s/it]\u001b[A\u001b[A\n",
      "\n",
      " 67%|██████▋   | 2/3 [00:46<00:25, 25.61s/it]\u001b[A\u001b[A\n",
      "\n",
      "100%|██████████| 3/3 [01:27<00:00, 30.12s/it]\u001b[A\u001b[A\n",
      "\n",
      "  0%|          | 0/3 [00:00<?, ?it/s]\u001b[A\u001b[A"
     ]
    },
    {
     "name": "stdout",
     "output_type": "stream",
     "text": [
      "Writing catalog/sector7-camera1.hf5\n",
      "Starting sector 7 camera 2\n"
     ]
    },
    {
     "name": "stderr",
     "output_type": "stream",
     "text": [
      "\n",
      "\n",
      " 33%|███▎      | 1/3 [00:02<00:04,  2.16s/it]\u001b[A\u001b[A\n",
      "\n",
      " 67%|██████▋   | 2/3 [00:04<00:02,  2.13s/it]\u001b[A\u001b[A\n",
      "\n",
      "100%|██████████| 3/3 [00:07<00:00,  2.39s/it]\u001b[A\u001b[A\n",
      "\n",
      "  0%|          | 0/3 [00:00<?, ?it/s]\u001b[A\u001b[A"
     ]
    },
    {
     "name": "stdout",
     "output_type": "stream",
     "text": [
      "Writing catalog/sector7-camera2.hf5\n",
      "Starting sector 7 camera 3\n"
     ]
    },
    {
     "name": "stderr",
     "output_type": "stream",
     "text": [
      "\n",
      "\n",
      " 33%|███▎      | 1/3 [00:00<00:01,  1.03it/s]\u001b[A\u001b[A\n",
      "\n",
      " 67%|██████▋   | 2/3 [00:01<00:00,  1.06it/s]\u001b[A\u001b[A\n",
      "\n",
      "100%|██████████| 3/3 [00:02<00:00,  1.00it/s]\u001b[A\u001b[A\n",
      "\n",
      "  0%|          | 0/3 [00:00<?, ?it/s]\u001b[A\u001b[A"
     ]
    },
    {
     "name": "stdout",
     "output_type": "stream",
     "text": [
      "Writing catalog/sector7-camera3.hf5\n",
      "Starting sector 7 camera 4\n"
     ]
    },
    {
     "name": "stderr",
     "output_type": "stream",
     "text": [
      "\n",
      "\n",
      " 33%|███▎      | 1/3 [00:01<00:03,  1.98s/it]\u001b[A\u001b[A\n",
      "\n",
      " 67%|██████▋   | 2/3 [00:02<00:01,  1.66s/it]\u001b[A\u001b[A\n",
      "\n",
      "100%|██████████| 3/3 [00:04<00:00,  1.53s/it]\u001b[A\u001b[A\n",
      "\n",
      "  0%|          | 0/3 [00:00<?, ?it/s]\u001b[A\u001b[A"
     ]
    },
    {
     "name": "stdout",
     "output_type": "stream",
     "text": [
      "Writing catalog/sector7-camera4.hf5\n",
      "Starting sector 8 camera 1\n"
     ]
    },
    {
     "name": "stderr",
     "output_type": "stream",
     "text": [
      "\n",
      "\n",
      " 33%|███▎      | 1/3 [10:22<20:45, 622.93s/it]\u001b[A\u001b[A\n",
      "\n",
      " 67%|██████▋   | 2/3 [11:24<07:34, 454.65s/it]\u001b[A\u001b[A\n",
      "\n",
      "100%|██████████| 3/3 [12:33<00:00, 338.72s/it]\u001b[A\u001b[A\n",
      "\n",
      "  0%|          | 0/3 [00:00<?, ?it/s]\u001b[A\u001b[A"
     ]
    },
    {
     "name": "stdout",
     "output_type": "stream",
     "text": [
      "Writing catalog/sector8-camera1.hf5\n",
      "Starting sector 8 camera 2\n"
     ]
    },
    {
     "name": "stderr",
     "output_type": "stream",
     "text": [
      "\n",
      "\n",
      " 33%|███▎      | 1/3 [00:03<00:06,  3.46s/it]\u001b[A\u001b[A\n",
      "\n",
      " 67%|██████▋   | 2/3 [00:12<00:05,  5.28s/it]\u001b[A\u001b[A\n",
      "\n",
      "100%|██████████| 3/3 [00:16<00:00,  4.61s/it]\u001b[A\u001b[A\n",
      "\n",
      "  0%|          | 0/3 [00:00<?, ?it/s]\u001b[A\u001b[A"
     ]
    },
    {
     "name": "stdout",
     "output_type": "stream",
     "text": [
      "Writing catalog/sector8-camera2.hf5\n",
      "Starting sector 8 camera 3\n"
     ]
    },
    {
     "name": "stderr",
     "output_type": "stream",
     "text": [
      "\n",
      "\n",
      " 33%|███▎      | 1/3 [00:01<00:02,  1.31s/it]\u001b[A\u001b[A\n",
      "\n",
      " 67%|██████▋   | 2/3 [00:02<00:01,  1.37s/it]\u001b[A\u001b[A\n",
      "\n",
      "100%|██████████| 3/3 [00:03<00:00,  1.25s/it]\u001b[A\u001b[A\n",
      "\n",
      "  0%|          | 0/3 [00:00<?, ?it/s]\u001b[A\u001b[A"
     ]
    },
    {
     "name": "stdout",
     "output_type": "stream",
     "text": [
      "Writing catalog/sector8-camera3.hf5\n",
      "Starting sector 8 camera 4\n"
     ]
    },
    {
     "name": "stderr",
     "output_type": "stream",
     "text": [
      "\n",
      "\n",
      " 33%|███▎      | 1/3 [00:01<00:02,  1.10s/it]\u001b[A\u001b[A\n",
      "\n",
      " 67%|██████▋   | 2/3 [00:02<00:01,  1.10s/it]\u001b[A\u001b[A\n",
      "\n",
      "100%|██████████| 3/3 [00:03<00:00,  1.05s/it]\u001b[A\u001b[A\n",
      "\n",
      "  0%|          | 0/3 [00:00<?, ?it/s]\u001b[A\u001b[A"
     ]
    },
    {
     "name": "stdout",
     "output_type": "stream",
     "text": [
      "Writing catalog/sector8-camera4.hf5\n",
      "Starting sector 9 camera 1\n"
     ]
    },
    {
     "name": "stderr",
     "output_type": "stream",
     "text": [
      "\n",
      "\n",
      " 33%|███▎      | 1/3 [00:45<01:30, 45.30s/it]\u001b[A\u001b[A\n",
      "\n",
      " 67%|██████▋   | 2/3 [01:52<00:51, 51.74s/it]\u001b[A\u001b[A\n",
      "\n",
      "100%|██████████| 3/3 [02:21<00:00, 45.11s/it]\u001b[A\u001b[A\n",
      "\n",
      "  0%|          | 0/3 [00:00<?, ?it/s]\u001b[A\u001b[A"
     ]
    },
    {
     "name": "stdout",
     "output_type": "stream",
     "text": [
      "Writing catalog/sector9-camera1.hf5\n",
      "Starting sector 9 camera 2\n"
     ]
    },
    {
     "name": "stderr",
     "output_type": "stream",
     "text": [
      "\n",
      "\n",
      " 33%|███▎      | 1/3 [00:02<00:05,  2.80s/it]\u001b[A\u001b[A\n",
      "\n",
      " 67%|██████▋   | 2/3 [00:05<00:02,  2.65s/it]\u001b[A\u001b[A\n",
      "\n",
      "100%|██████████| 3/3 [00:07<00:00,  2.47s/it]\u001b[A\u001b[A\n",
      "\n",
      "  0%|          | 0/3 [00:00<?, ?it/s]\u001b[A\u001b[A"
     ]
    },
    {
     "name": "stdout",
     "output_type": "stream",
     "text": [
      "Writing catalog/sector9-camera2.hf5\n",
      "Starting sector 9 camera 3\n"
     ]
    },
    {
     "name": "stderr",
     "output_type": "stream",
     "text": [
      "\n",
      "\n",
      " 33%|███▎      | 1/3 [00:01<00:02,  1.17s/it]\u001b[A\u001b[A\n",
      "\n",
      " 67%|██████▋   | 2/3 [00:02<00:01,  1.08s/it]\u001b[A\u001b[A\n",
      "\n",
      "100%|██████████| 3/3 [00:02<00:00,  1.01it/s]\u001b[A\u001b[A\n",
      "\n",
      "  0%|          | 0/3 [00:00<?, ?it/s]\u001b[A\u001b[A"
     ]
    },
    {
     "name": "stdout",
     "output_type": "stream",
     "text": [
      "Writing catalog/sector9-camera3.hf5\n",
      "Starting sector 9 camera 4\n"
     ]
    },
    {
     "name": "stderr",
     "output_type": "stream",
     "text": [
      "\n",
      "\n",
      " 33%|███▎      | 1/3 [00:01<00:02,  1.12s/it]\u001b[A\u001b[A\n",
      "\n",
      " 67%|██████▋   | 2/3 [00:02<00:01,  1.11s/it]\u001b[A\u001b[A\n",
      "\n",
      "100%|██████████| 3/3 [00:03<00:00,  1.17s/it]\u001b[A\u001b[A\n",
      "\n",
      "  0%|          | 0/3 [00:00<?, ?it/s]\u001b[A\u001b[A"
     ]
    },
    {
     "name": "stdout",
     "output_type": "stream",
     "text": [
      "Writing catalog/sector9-camera4.hf5\n",
      "Starting sector 10 camera 1\n"
     ]
    },
    {
     "name": "stderr",
     "output_type": "stream",
     "text": [
      "\n",
      "\n",
      " 33%|███▎      | 1/3 [00:30<01:00, 30.07s/it]\u001b[A\u001b[A\n",
      "\n",
      " 67%|██████▋   | 2/3 [01:00<00:30, 30.22s/it]\u001b[A\u001b[A\n",
      "\n",
      "100%|██████████| 3/3 [01:40<00:00, 33.19s/it]\u001b[A\u001b[A\n",
      "\n",
      "  0%|          | 0/3 [00:00<?, ?it/s]\u001b[A\u001b[A"
     ]
    },
    {
     "name": "stdout",
     "output_type": "stream",
     "text": [
      "Writing catalog/sector10-camera1.hf5\n",
      "Starting sector 10 camera 2\n"
     ]
    },
    {
     "name": "stderr",
     "output_type": "stream",
     "text": [
      "\n",
      "\n",
      " 33%|███▎      | 1/3 [00:01<00:03,  1.87s/it]\u001b[A\u001b[A\n",
      "\n",
      " 67%|██████▋   | 2/3 [00:11<00:04,  4.25s/it]\u001b[A\u001b[A\n",
      "\n",
      "100%|██████████| 3/3 [00:14<00:00,  3.77s/it]\u001b[A\u001b[A\n",
      "\n",
      "  0%|          | 0/3 [00:00<?, ?it/s]\u001b[A\u001b[A"
     ]
    },
    {
     "name": "stdout",
     "output_type": "stream",
     "text": [
      "Writing catalog/sector10-camera2.hf5\n",
      "Starting sector 10 camera 3\n"
     ]
    },
    {
     "name": "stderr",
     "output_type": "stream",
     "text": [
      "\n",
      "\n",
      " 33%|███▎      | 1/3 [00:00<00:01,  1.11it/s]\u001b[A\u001b[A\n",
      "\n",
      " 67%|██████▋   | 2/3 [00:02<00:01,  1.10s/it]\u001b[A\u001b[A\n",
      "\n",
      "100%|██████████| 3/3 [00:05<00:00,  1.66s/it]\u001b[A\u001b[A\n",
      "\n",
      "  0%|          | 0/3 [00:00<?, ?it/s]\u001b[A\u001b[A"
     ]
    },
    {
     "name": "stdout",
     "output_type": "stream",
     "text": [
      "Writing catalog/sector10-camera3.hf5\n",
      "Starting sector 10 camera 4\n"
     ]
    },
    {
     "name": "stderr",
     "output_type": "stream",
     "text": [
      "\n",
      "\n",
      " 33%|███▎      | 1/3 [00:00<00:01,  1.16it/s]\u001b[A\u001b[A\n",
      "\n",
      " 67%|██████▋   | 2/3 [00:02<00:00,  1.01it/s]\u001b[A\u001b[A\n",
      "\n",
      "100%|██████████| 3/3 [00:03<00:00,  1.06s/it]\u001b[A\u001b[A\n",
      "\n",
      "  0%|          | 0/3 [00:00<?, ?it/s]\u001b[A\u001b[A"
     ]
    },
    {
     "name": "stdout",
     "output_type": "stream",
     "text": [
      "Writing catalog/sector10-camera4.hf5\n",
      "Starting sector 11 camera 1\n"
     ]
    },
    {
     "name": "stderr",
     "output_type": "stream",
     "text": [
      "\n",
      "\n",
      " 33%|███▎      | 1/3 [00:11<00:22, 11.26s/it]\u001b[A\u001b[A\n",
      "\n",
      " 67%|██████▋   | 2/3 [00:54<00:20, 20.88s/it]\u001b[A\u001b[A\n",
      "\n",
      "100%|██████████| 3/3 [01:23<00:00, 23.37s/it]\u001b[A\u001b[A\n",
      "\n",
      "  0%|          | 0/3 [00:00<?, ?it/s]\u001b[A\u001b[A"
     ]
    },
    {
     "name": "stdout",
     "output_type": "stream",
     "text": [
      "Writing catalog/sector11-camera1.hf5\n",
      "Starting sector 11 camera 2\n"
     ]
    },
    {
     "name": "stderr",
     "output_type": "stream",
     "text": [
      "\n",
      "\n",
      " 33%|███▎      | 1/3 [00:03<00:06,  3.20s/it]\u001b[A\u001b[A\n",
      "\n",
      " 67%|██████▋   | 2/3 [00:07<00:03,  3.50s/it]\u001b[A\u001b[A\n",
      "\n",
      "100%|██████████| 3/3 [00:08<00:00,  2.92s/it]\u001b[A\u001b[A\n",
      "\n",
      "  0%|          | 0/3 [00:00<?, ?it/s]\u001b[A\u001b[A"
     ]
    },
    {
     "name": "stdout",
     "output_type": "stream",
     "text": [
      "Writing catalog/sector11-camera2.hf5\n",
      "Starting sector 11 camera 3\n"
     ]
    },
    {
     "name": "stderr",
     "output_type": "stream",
     "text": [
      "\n",
      "\n",
      " 33%|███▎      | 1/3 [00:01<00:02,  1.16s/it]\u001b[A\u001b[A\n",
      "\n",
      " 67%|██████▋   | 2/3 [00:02<00:01,  1.26s/it]\u001b[A\u001b[A\n",
      "\n",
      "100%|██████████| 3/3 [00:03<00:00,  1.17s/it]\u001b[A\u001b[A\n",
      "\n",
      "  0%|          | 0/3 [00:00<?, ?it/s]\u001b[A\u001b[A"
     ]
    },
    {
     "name": "stdout",
     "output_type": "stream",
     "text": [
      "Writing catalog/sector11-camera3.hf5\n",
      "Starting sector 11 camera 4\n"
     ]
    },
    {
     "name": "stderr",
     "output_type": "stream",
     "text": [
      "\n",
      "\n",
      " 33%|███▎      | 1/3 [00:00<00:01,  1.28it/s]\u001b[A\u001b[A\n",
      "\n",
      " 67%|██████▋   | 2/3 [00:01<00:00,  1.17it/s]\u001b[A\u001b[A\n",
      "\n",
      "100%|██████████| 3/3 [00:02<00:00,  1.15it/s]\u001b[A\u001b[A\n",
      "\n",
      "  0%|          | 0/3 [00:00<?, ?it/s]\u001b[A\u001b[A"
     ]
    },
    {
     "name": "stdout",
     "output_type": "stream",
     "text": [
      "Writing catalog/sector11-camera4.hf5\n",
      "Starting sector 12 camera 1\n"
     ]
    },
    {
     "name": "stderr",
     "output_type": "stream",
     "text": [
      "\n",
      "\n",
      " 33%|███▎      | 1/3 [00:20<00:40, 20.07s/it]\u001b[A\u001b[A\n",
      "\n",
      " 67%|██████▋   | 2/3 [01:02<00:26, 26.76s/it]\u001b[A\u001b[A\n",
      "\n",
      "100%|██████████| 3/3 [01:46<00:00, 32.00s/it]\u001b[A\u001b[A\n",
      "\n",
      "  0%|          | 0/3 [00:00<?, ?it/s]\u001b[A\u001b[A"
     ]
    },
    {
     "name": "stdout",
     "output_type": "stream",
     "text": [
      "Writing catalog/sector12-camera1.hf5\n",
      "Starting sector 12 camera 2\n"
     ]
    },
    {
     "name": "stderr",
     "output_type": "stream",
     "text": [
      "\n",
      "\n",
      " 33%|███▎      | 1/3 [00:02<00:05,  2.72s/it]\u001b[A\u001b[A\n",
      "\n",
      " 67%|██████▋   | 2/3 [00:08<00:03,  3.50s/it]\u001b[A\u001b[A\n",
      "\n",
      "100%|██████████| 3/3 [00:11<00:00,  3.45s/it]\u001b[A\u001b[A\n",
      "\n",
      "  0%|          | 0/3 [00:00<?, ?it/s]\u001b[A\u001b[A"
     ]
    },
    {
     "name": "stdout",
     "output_type": "stream",
     "text": [
      "Writing catalog/sector12-camera2.hf5\n",
      "Starting sector 12 camera 3\n"
     ]
    },
    {
     "name": "stderr",
     "output_type": "stream",
     "text": [
      "\n",
      "\n",
      " 33%|███▎      | 1/3 [00:01<00:02,  1.12s/it]\u001b[A\u001b[A\n",
      "\n",
      " 67%|██████▋   | 2/3 [00:02<00:01,  1.18s/it]\u001b[A\u001b[A\n",
      "\n",
      "100%|██████████| 3/3 [00:04<00:00,  1.33s/it]\u001b[A\u001b[A\n",
      "\n",
      "  0%|          | 0/3 [00:00<?, ?it/s]\u001b[A\u001b[A"
     ]
    },
    {
     "name": "stdout",
     "output_type": "stream",
     "text": [
      "Writing catalog/sector12-camera3.hf5\n",
      "Starting sector 12 camera 4\n"
     ]
    },
    {
     "name": "stderr",
     "output_type": "stream",
     "text": [
      "\n",
      "\n",
      " 33%|███▎      | 1/3 [00:00<00:01,  1.17it/s]\u001b[A\u001b[A\n",
      "\n",
      " 67%|██████▋   | 2/3 [00:01<00:00,  1.07it/s]\u001b[A\u001b[A\n",
      "\n",
      "100%|██████████| 3/3 [00:02<00:00,  1.08it/s]\u001b[A\u001b[A"
     ]
    },
    {
     "name": "stdout",
     "output_type": "stream",
     "text": [
      "Writing catalog/sector12-camera4.hf5\n"
     ]
    }
   ],
   "source": [
    "for field in range(len(cycle2)):\n",
    "    for camera in [1, 2, 3, 4]:\n",
    "        print(f'Starting sector {field} camera {camera}')\n",
    "        res = None\n",
    "        for dt in tqdm([0, 13.5, 27]): #tqdm(np.arange(0, 27, 3)):\n",
    "            epoch =  Time(datetime.strptime(cycle2.Start[field], '%m/%d/%y')).jd + dt\n",
    "            sector = cycle2[f'Sector'][field]\n",
    "            ra = cycle2[f'Cam{camera}RA'][field]\n",
    "            dec = cycle2[f'Cam{camera}Dec'][field]\n",
    "            radius = 24\n",
    "            location = '000'\n",
    "\n",
    "            url = 'http://vo.imcce.fr/webservices/skybot/skybotconesearch_query.php?'\n",
    "            url += '-mime=text&'\n",
    "            url += '-ra={}&'.format(ra)\n",
    "            url += '-dec={}&'.format(dec)\n",
    "            url += '-bd={}&'.format(radius)\n",
    "            url += '-loc={}&'.format(location)\n",
    "            url += 'EPOCH={}'.format(epoch)\n",
    "\n",
    "            res1 = pd.read_csv(url, delimiter='|', skiprows=2)\n",
    "            res1.columns = [r.replace('#', '').strip() for r in res1.columns]\n",
    "            #res1 = res1[res1.Mv < 18]\n",
    "            res1['epoch'] = epoch\n",
    "\n",
    "            if res is None:\n",
    "                res = res1\n",
    "            else:\n",
    "                res = res.append(res1)\n",
    "        if len(res) == 0:\n",
    "            print(\"Empty result!\")\n",
    "        else:\n",
    "            piv = pd.pivot_table(res, index=['Name', 'RA(h)', 'DE(deg)', 'epoch'])\n",
    "            output_fn = f'catalog/sector{field}-camera{camera}.hf5'\n",
    "            print(f'Writing {output_fn}')\n",
    "            piv.to_hdf(output_fn, key='asteroids')"
   ]
  }
 ],
 "metadata": {
  "kernelspec": {
   "display_name": "Python 3",
   "language": "python",
   "name": "python3"
  },
  "language_info": {
   "codemirror_mode": {
    "name": "ipython",
    "version": 3
   },
   "file_extension": ".py",
   "mimetype": "text/x-python",
   "name": "python",
   "nbconvert_exporter": "python",
   "pygments_lexer": "ipython3",
   "version": "3.7.2"
  }
 },
 "nbformat": 4,
 "nbformat_minor": 2
}
